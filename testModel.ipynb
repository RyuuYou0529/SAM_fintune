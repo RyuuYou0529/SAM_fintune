{
 "cells": [
  {
   "cell_type": "code",
   "execution_count": null,
   "metadata": {},
   "outputs": [],
   "source": [
    "import sys\n",
    "from segment_anything import sam_model_registry, SamPredictor\n",
    "\n",
    "import torch\n",
    "from torchsummary import summary\n",
    "\n",
    "from ryu_pytools import arr_info"
   ]
  },
  {
   "cell_type": "code",
   "execution_count": null,
   "metadata": {},
   "outputs": [],
   "source": [
    "sam_checkpoint = \"/home/ryuuyou/Project/segment-anything/checkpoints/sam_vit_b_01ec64.pth\"\n",
    "model_type = \"vit_b\"\n",
    "\n",
    "device = \"cuda\""
   ]
  },
  {
   "cell_type": "code",
   "execution_count": null,
   "metadata": {},
   "outputs": [],
   "source": [
    "sam_model = sam_model_registry[model_type]()\n",
    "sam_model.to(device=device)\n",
    "\n",
    "sam_state = sam_model.state_dict()\n",
    "pretrained_state = torch.load(sam_checkpoint)\n",
    "state_dict = {k: v for k, v in pretrained_state.items() if k in sam_state.keys()}\n",
    "\n",
    "sam_state.update(state_dict)\n",
    "sam_model.load_state_dict(sam_state)"
   ]
  },
  {
   "cell_type": "code",
   "execution_count": null,
   "metadata": {},
   "outputs": [],
   "source": [
    "from finetune import DRIVE_Dataset\n",
    "from torch.utils.data import DataLoader\n",
    "input_folder='/home/ryuuyou/Project/segment-anything/data/DRIVE/training/images'\n",
    "label_folder='/home/ryuuyou/Project/segment-anything/data/DRIVE/training/1st_manual'\n",
    "\n",
    "ds = DRIVE_Dataset(input_folder=input_folder, label_folder=label_folder)\n",
    "dl = DataLoader(dataset=ds, batch_size=3, shuffle=True)"
   ]
  },
  {
   "cell_type": "code",
   "execution_count": null,
   "metadata": {},
   "outputs": [],
   "source": [
    "dl_iter = iter(dl)\n",
    "inputs, _, (points, labels) = next(dl_iter)"
   ]
  },
  {
   "cell_type": "code",
   "execution_count": null,
   "metadata": {},
   "outputs": [],
   "source": [
    "from segment_anything.utils.transforms import ResizeLongestSide\n",
    "resize_transform = ResizeLongestSide(sam_model.image_encoder.img_size)"
   ]
  },
  {
   "cell_type": "code",
   "execution_count": null,
   "metadata": {},
   "outputs": [],
   "source": [
    "inputs = inputs.to(device)\n",
    "# masks = masks.to(device)\n",
    "points = points.to(device)\n",
    "labels = labels.to(device)\n",
    "\n",
    "original_size = inputs.shape[-2:]\n",
    "inputs = resize_transform.apply_image_torch(inputs)\n",
    "points = resize_transform.apply_coords_torch(points, original_size)\n",
    "\n",
    "inputs = torch.stack([sam_model.preprocess(x) for x in inputs], dim=0)"
   ]
  },
  {
   "cell_type": "code",
   "execution_count": null,
   "metadata": {},
   "outputs": [],
   "source": [
    "with torch.no_grad():\n",
    "    image_embedding = sam_model.image_encoder(inputs)\n",
    "with torch.no_grad():\n",
    "    sparse_embeddings, dense_embeddings = sam_model.prompt_encoder(\n",
    "        points=(points, labels),\n",
    "        boxes=None,\n",
    "        masks=None,\n",
    "    )"
   ]
  },
  {
   "cell_type": "code",
   "execution_count": null,
   "metadata": {},
   "outputs": [],
   "source": [
    "arr_info(image_embedding, 'image_embedding')\n",
    "arr_info(sparse_embeddings, 'sparse_embeddings')\n",
    "arr_info(dense_embeddings, 'dense_embeddings')"
   ]
  },
  {
   "cell_type": "code",
   "execution_count": null,
   "metadata": {},
   "outputs": [],
   "source": [
    "low_res_masks, iou_predictions, point_predictions = sam_model.mask_decoder(\n",
    "    image_embeddings=image_embedding,\n",
    "    image_pe=sam_model.prompt_encoder.get_dense_pe(),\n",
    "    sparse_prompt_embeddings=sparse_embeddings,\n",
    "    dense_prompt_embeddings=dense_embeddings,\n",
    "    multimask_output=False,\n",
    ")"
   ]
  },
  {
   "cell_type": "code",
   "execution_count": null,
   "metadata": {},
   "outputs": [],
   "source": [
    "arr_info(point_predictions, 'point_predictions')\n",
    "arr_info(low_res_masks, 'low_res_masks')\n",
    "arr_info(iou_predictions, 'iou_predictions')"
   ]
  }
 ],
 "metadata": {
  "kernelspec": {
   "display_name": "torch",
   "language": "python",
   "name": "python3"
  },
  "language_info": {
   "codemirror_mode": {
    "name": "ipython",
    "version": 3
   },
   "file_extension": ".py",
   "mimetype": "text/x-python",
   "name": "python",
   "nbconvert_exporter": "python",
   "pygments_lexer": "ipython3",
   "version": "3.10.8"
  }
 },
 "nbformat": 4,
 "nbformat_minor": 2
}
